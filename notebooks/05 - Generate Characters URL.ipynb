{
 "cells": [
  {
   "cell_type": "code",
   "execution_count": null,
   "id": "0",
   "metadata": {},
   "outputs": [],
   "source": [
    "import pandas as pd\n",
    "import json\n",
    "import os\n",
    "import sys\n",
    "\n",
    "# remove column width restrictions\n",
    "pd.set_option('display.max_colwidth', None)\n",
    "\n",
    "ROOT = os.path.dirname(os.path.abspath(os.getcwd()))\n",
    "data_path = os.path.join(ROOT, 'data')\n",
    "one_piece_episodes_path = os.path.join(data_path, 'one_piece_episodes.json')"
   ]
  },
  {
   "cell_type": "code",
   "execution_count": null,
   "id": "1",
   "metadata": {},
   "outputs": [],
   "source": [
    "import re\n",
    "\n",
    "def clean_character_name(name):\n",
    "    \"\"\"Removes parenthetical notes like (flashback), (cover), etc., and strips whitespace.\"\"\"\n",
    "    # Remove any text within parentheses\n",
    "    cleaned_name = re.sub(r'\\s*\\(.*?\\)', '', name)\n",
    "    # Strip any leading/trailing whitespace that might be left\n",
    "    return cleaned_name.strip()\n",
    "\n",
    "clean_character_name(\"Monkey D. Luffy (flashback)\")  # Example usage"
   ]
  },
  {
   "cell_type": "markdown",
   "id": "2",
   "metadata": {},
   "source": [
    "### Get all names"
   ]
  },
  {
   "cell_type": "code",
   "execution_count": null,
   "id": "3",
   "metadata": {},
   "outputs": [],
   "source": [
    "names = set()\n",
    "\n",
    "episodes_df = pd.read_json(one_piece_episodes_path)\n",
    "\n",
    "# get all characters split by \"\\n\"\n",
    "for characters in episodes_df['characters'].dropna():\n",
    "    for name in characters.split(\"\\n\"):\n",
    "        cleaned_name = clean_character_name(name)\n",
    "        if cleaned_name:  # Ensure the name is not empty after cleaning\n",
    "            names.add(cleaned_name)\n",
    "\n",
    "print(f\"Total unique character names: {len(names)}\")"
   ]
  },
  {
   "cell_type": "markdown",
   "id": "4",
   "metadata": {},
   "source": [
    "### Generate url and validate if url exists"
   ]
  },
  {
   "cell_type": "code",
   "execution_count": null,
   "id": "5",
   "metadata": {},
   "outputs": [],
   "source": [
    "import requests\n",
    "import time\n",
    "from tqdm import tqdm\n",
    "\n",
    "base_url = \"https://onepiece.fandom.com/wiki/\"\n",
    "valid_urls = []\n",
    "invalid_names = []\n",
    "failed_requests = []\n",
    "\n",
    "scraper_headers = {\n",
    "        'User-Agent': 'OnePieceRAGBot/1.0 (URL Validator)'\n",
    "    }\n",
    "\n",
    "print(\"Validating URLs...\")\n",
    "for name in tqdm(names, desc=\"Checking valid URLs\"):\n",
    "    # Replace spaces with underscores for the URL\n",
    "    url_name = name.replace(\" \", \"_\")\n",
    "    url = f\"{base_url}{url_name}\"\n",
    "    print(f\"Checking URL: {url}\")\n",
    "    \n",
    "    try:\n",
    "        response = requests.head(url, headers=scraper_headers, allow_redirects=True)\n",
    "        if response.status_code == 200:\n",
    "            valid_urls.append(url)\n",
    "        else:\n",
    "            invalid_names.append(name)\n",
    "            print(f\"Invalid URL for character: {name} (Status Code: {response.status_code})\")\n",
    "    except requests.RequestException as e:\n",
    "        failed_requests.append(name)\n",
    "        print(f\"Error checking URL for character: {name} (Error: {e})\")\n",
    "        continue\n",
    "\n",
    "    finally:\n",
    "        # Be polite and avoid overwhelming the server\n",
    "        time.sleep(0.2)\n"
   ]
  },
  {
   "cell_type": "code",
   "execution_count": null,
   "id": "6",
   "metadata": {},
   "outputs": [],
   "source": [
    "# save valid urls\n",
    "valid_urls_path = os.path.join(data_path, 'one_piece_characters_urls.txt')\n",
    "with open(valid_urls_path, 'w') as f:\n",
    "    for url in valid_urls:\n",
    "        f.write(f\"{url}\\n\")"
   ]
  },
  {
   "cell_type": "code",
   "execution_count": null,
   "id": "7",
   "metadata": {},
   "outputs": [],
   "source": [
    "# save invalid names\n",
    "invalid_names_path = os.path.join(data_path, 'one_piece_invalid_character_names.txt')\n",
    "with open(invalid_names_path, 'w') as f:\n",
    "    for name in invalid_names:\n",
    "        f.write(f\"{name}\\n\")"
   ]
  },
  {
   "cell_type": "code",
   "execution_count": null,
   "id": "8",
   "metadata": {},
   "outputs": [],
   "source": []
  }
 ],
 "metadata": {
  "kernelspec": {
   "display_name": "op_rag_venv",
   "language": "python",
   "name": "python3"
  },
  "language_info": {
   "codemirror_mode": {
    "name": "ipython",
    "version": 3
   },
   "file_extension": ".py",
   "mimetype": "text/x-python",
   "name": "python",
   "nbconvert_exporter": "python",
   "pygments_lexer": "ipython3",
   "version": "3.12.2"
  }
 },
 "nbformat": 4,
 "nbformat_minor": 5
}
