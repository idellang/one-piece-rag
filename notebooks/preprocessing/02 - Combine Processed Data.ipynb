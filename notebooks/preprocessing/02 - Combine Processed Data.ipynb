{
 "cells": [
  {
   "cell_type": "code",
   "execution_count": null,
   "id": "0",
   "metadata": {},
   "outputs": [],
   "source": [
    "import json\n",
    "from pathlib import Path\n",
    "import os\n",
    "\n",
    "ROOT = Path.cwd().parent.parent.resolve()\n",
    "processed_data_path = ROOT/ \"data\"/ \"processed\"\n",
    "print(f\"Processed data path: {processed_data_path}\")\n",
    "# check if it exists\n",
    "processed_data_path.exists()"
   ]
  },
  {
   "cell_type": "markdown",
   "id": "1",
   "metadata": {},
   "source": [
    "### Load files"
   ]
  },
  {
   "cell_type": "code",
   "execution_count": null,
   "id": "2",
   "metadata": {},
   "outputs": [],
   "source": [
    "chapters_file = processed_data_path/ \"processed_chapters.jsonl\"\n",
    "episodes_file = processed_data_path/ \"processed_episodes.jsonl\"\n",
    "characters_file = processed_data_path/ \"processed_characters.jsonl\"\n",
    "\n",
    "# load each file\n",
    "with open(chapters_file, \"r\", encoding=\"utf-8\") as f:\n",
    "    chapters = [json.loads(line) for line in f]\n",
    "\n",
    "with open(episodes_file, \"r\", encoding=\"utf-8\") as f:\n",
    "    episodes = [json.loads(line) for line in f]\n",
    "\n",
    "with open(characters_file, \"r\", encoding=\"utf-8\") as f:\n",
    "    characters = [json.loads(line) for line in f]\n",
    "\n",
    "print(f\"Loaded {len(chapters)} chapters\")\n",
    "print(f\"Loaded {len(episodes)} episodes\")\n",
    "print(f\"Loaded {len(characters)} characters\")"
   ]
  },
  {
   "cell_type": "markdown",
   "id": "3",
   "metadata": {},
   "source": [
    "### Combine and verify"
   ]
  },
  {
   "cell_type": "code",
   "execution_count": null,
   "id": "4",
   "metadata": {},
   "outputs": [],
   "source": [
    "all_documents = chapters + episodes + characters\n",
    "print(f\"Total documents: {len(all_documents)}\")"
   ]
  },
  {
   "cell_type": "code",
   "execution_count": null,
   "id": "5",
   "metadata": {},
   "outputs": [],
   "source": [
    "# verify same count\n",
    "total_count = len(characters) + len(episodes) + len(chapters)\n",
    "assert len(all_documents) == total_count, \"Counts do not match!\""
   ]
  },
  {
   "cell_type": "code",
   "execution_count": null,
   "id": "6",
   "metadata": {},
   "outputs": [],
   "source": [
    "# extract metadata fields\n",
    "\n",
    "metadata_source_count = []\n",
    "\n",
    "for doc in all_documents:\n",
    "    metadata = doc.get(\"metadata\", {})\n",
    "    source = metadata.get(\"source_type\", \"unknown\")\n",
    "    metadata_source_count.append(source)"
   ]
  },
  {
   "cell_type": "code",
   "execution_count": null,
   "id": "7",
   "metadata": {},
   "outputs": [],
   "source": [
    "from collections import Counter\n",
    "source_counter = Counter(metadata_source_count)\n",
    "print(\"Document counts by source type:\")\n",
    "for source, count in source_counter.items():\n",
    "    print(f\"{source}: {count}\")"
   ]
  },
  {
   "cell_type": "markdown",
   "id": "8",
   "metadata": {},
   "source": [
    "### Save into a single file all documents"
   ]
  },
  {
   "cell_type": "code",
   "execution_count": null,
   "id": "9",
   "metadata": {},
   "outputs": [],
   "source": [
    "combined_file_path = processed_data_path / \"all_documents.jsonl\"\n",
    "\n",
    "with open(combined_file_path, \"w\", encoding=\"utf-8\") as f:\n",
    "    for doc in all_documents:\n",
    "        f.write(json.dumps(doc) + \"\\n\")\n",
    "\n",
    "print(f\"Combined documents saved to {combined_file_path}\")"
   ]
  },
  {
   "cell_type": "code",
   "execution_count": null,
   "id": "10",
   "metadata": {},
   "outputs": [],
   "source": [
    "# try to load that file to verify\n",
    "with open(combined_file_path, \"r\", encoding=\"utf-8\") as f:\n",
    "    combined_docs = [json.loads(line) for line in f]\n",
    "print(f\"Verified loading {len(combined_docs)} combined documents\")"
   ]
  },
  {
   "cell_type": "code",
   "execution_count": null,
   "id": "11",
   "metadata": {},
   "outputs": [],
   "source": []
  }
 ],
 "metadata": {
  "kernelspec": {
   "display_name": "op_rag_venv",
   "language": "python",
   "name": "python3"
  },
  "language_info": {
   "codemirror_mode": {
    "name": "ipython",
    "version": 3
   },
   "file_extension": ".py",
   "mimetype": "text/x-python",
   "name": "python",
   "nbconvert_exporter": "python",
   "pygments_lexer": "ipython3",
   "version": "3.12.2"
  }
 },
 "nbformat": 4,
 "nbformat_minor": 5
}
