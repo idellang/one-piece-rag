{
 "cells": [
  {
   "cell_type": "code",
   "execution_count": null,
   "id": "0",
   "metadata": {},
   "outputs": [],
   "source": [
    "import json\n",
    "import os\n",
    "import sys\n",
    "from pathlib import Path\n",
    "\n",
    "\n",
    "# create ROOT directory\n",
    "ROOT = Path.cwd().parent.parent\n",
    "raw_data_path = ROOT / \"data\" / \"raw\"\n"
   ]
  },
  {
   "cell_type": "code",
   "execution_count": null,
   "id": "1",
   "metadata": {},
   "outputs": [],
   "source": [
    "# get a sample of the formats in the raw data\n",
    "chapters_filename = \"one_piece_chapters.json\"\n",
    "with open(raw_data_path / chapters_filename, \"r\") as f:\n",
    "    chapters = json.load(f)\n",
    "\n",
    "# get a few sample of chapters\n",
    "sample_chapters = chapters[:2]\n",
    "sample_chapters"
   ]
  },
  {
   "cell_type": "code",
   "execution_count": null,
   "id": "2",
   "metadata": {},
   "outputs": [],
   "source": [
    "episodes_filename = \"one_piece_episodes.json\"\n",
    "with open(raw_data_path / episodes_filename, \"r\") as f:\n",
    "    episodes = json.load(f)\n",
    "\n",
    "# get a few sample of episodes\n",
    "sample_episodes = episodes[:2]\n",
    "sample_episodes"
   ]
  },
  {
   "cell_type": "code",
   "execution_count": null,
   "id": "3",
   "metadata": {},
   "outputs": [],
   "source": [
    "characters_filename = \"one_piece_characters_data.jsonl\"\n",
    "with open(raw_data_path / characters_filename, \"r\") as f:\n",
    "    characters = [json.loads(line) for line in f]\n",
    "\n",
    "# get a few sample of characters\n",
    "sample_characters = characters[:2]\n",
    "sample_characters"
   ]
  },
  {
   "cell_type": "markdown",
   "id": "4",
   "metadata": {},
   "source": [
    "### Recommended format"
   ]
  },
  {
   "cell_type": "markdown",
   "id": "5",
   "metadata": {},
   "source": [
    "#### Chapter\n",
    "\n",
    "```JSON\n",
    "{\n",
    "  \"text\": \"# Title: The Kurozumi Family's Plot\\\\n## Chapter Number: 965\\\\n## Release Date: 2019-12-16\\\\n\\\\n## Summary\\\\nAs they sailed with theWhitebeard Piratesfor four years and learned more about the world,OdenandTokifell in love... (and so on, combining short_summary and long_summary)\\\\n\\\\n## Chapter Notes\\\\nTokireveals that her parents were fromWano Country... (and so on)\\\\n\\\\n## Characters Appearing\\\\n- Pirates: Edward Newgate, Marco, Jozu, Vista...\\\\n- Citizens: Gol D. Roger, Silvers Rayleigh, Scopper Gaban...\\\\n- Other: Kouzuki Sukiyaki(flashback), Kurozumi Orochi...\\\\n\\\\n## Trivia\\\\nN/A\",\n",
    "  \"metadata\": {\n",
    "    \"source_type\": \"chapter\",\n",
    "    \"title\": \"The Kurozumi Family's Plot\",\n",
    "    \"number\": 965,\n",
    "    \"url\": \"https://onepiece.fandom.com/wiki/Chapter_965\"\n",
    "  }\n",
    "}\n",
    "```"
   ]
  },
  {
   "cell_type": "markdown",
   "id": "6",
   "metadata": {},
   "source": [
    "#### Episde\n",
    "\n",
    "```JSON\n",
    "{\n",
    "  \"text\": \"# Title: I'm Luffy! The Man Who Will Become the Pirate King!\\\\n## Episode Number: 1\\\\n## Air Date: 1999-10-20\\\\n## Source Chapters: Chapter 2, (p. 4-23)\\\\n\\\\n## Summary\\\\nLuffyis found floating at sea by acruise ship... (and so on, combining short_summary and long_summary)\\\\n\\\\n## Characters Appearing\\\\nNami, Alvida, Koby, Heppoko, Peppoko, Poppoko, Monkey D. Luffy, Roronoa Zoro\\\\n\\\\n## Anime Notes\\\\nThis andthe second episodeuse a unique end card... (and so on)\\\\n\\\\n## Trivia\\\\nN/A\",\n",
    "  \"metadata\": {\n",
    "    \"source_type\": \"episode\",\n",
    "    \"title\": \"I'm Luffy! The Man Who Will Become the Pirate King!\",\n",
    "    \"number\": 1,\n",
    "    \"url\": \"https://onepiece.fandom.com/wiki/Episode_1\"\n",
    "  }\n",
    "}\n",
    "```"
   ]
  },
  {
   "cell_type": "markdown",
   "id": "7",
   "metadata": {},
   "source": [
    "#### Character\n",
    "\n",
    "```JSON\n",
    "{\n",
    "  \"text\": \"# Name: Oide\\\\n## Affiliations: N/A\\\\n## Occupations: N/A\\\\n## Residence: Sphinx\\\\n## Status: Alive\\\\n## Manga Debut: Chapter 909\\\\n## Anime Debut: Episode 890\\\\n\\\\n## General Info\\\\nOideis a little girl who lives inSphinx. She is the owner ofTama.\\\\n\\\\n## Appearance\\\\nOide is a little girl with blushy cheeks, brown pigtails and brown eyes... (and so on)\\\\n\\\\n## Personality\\\\nOide is a cheerful girl who loves her pet, Tama... (and so on)\\\\n\\\\n## History\\\\nIn Sphinx, Oide brought her pet Tama to Marco so it could be treated... (and so on)\\\\n\\\\n## Abilities\\\\nN/A\\\\n\\\\n## Trivia\\\\nOide's name comes from the verb 'come over'(おいで,oide).\",\n",
    "  \"metadata\": {\n",
    "    \"source_type\": \"character\",\n",
    "    \"name\": \"Oide\",\n",
    "    \"url\": \"https://onepiece.fandom.com/wiki/Oide\"\n",
    "  }\n",
    "}\n",
    "```"
   ]
  },
  {
   "cell_type": "markdown",
   "id": "8",
   "metadata": {},
   "source": [
    "## Preprocessing"
   ]
  },
  {
   "cell_type": "markdown",
   "id": "9",
   "metadata": {},
   "source": [
    "### Chapters preprocessing"
   ]
  },
  {
   "cell_type": "code",
   "execution_count": null,
   "id": "10",
   "metadata": {},
   "outputs": [],
   "source": [
    "import json\n",
    "import pandas as pd\n",
    "\n",
    "def format_chapter_characters(char_data):\n",
    "    \"\"\"\n",
    "    Helper function to format the nested character dictionary from the\n",
    "    chapter file into a readable string. It handles the multiple levels\n",
    "    of nesting found in your sample data.\n",
    "    \"\"\"\n",
    "\n",
    "    if not isinstance(char_data, dict):\n",
    "        return \"N/A\"\n",
    "    \n",
    "    full_character_list = []\n",
    "\n",
    "    for category, subcategories in char_data.items():\n",
    "        if isinstance(subcategories, dict):\n",
    "            for subcat, members in subcategories.items():\n",
    "                if members: # check if members is not empty\n",
    "                    member_str = \", \".join(members)\n",
    "                    full_character_list.append(f\"{category} - {subcat}: {member_str}\")\n",
    "    \n",
    "    return \"\\\\n\".join(full_character_list) if full_character_list else \"N/A\"\n"
   ]
  },
  {
   "cell_type": "code",
   "execution_count": null,
   "id": "11",
   "metadata": {},
   "outputs": [],
   "source": [
    "chapters_df = pd.read_json(raw_data_path / \"one_piece_chapters.json\")\n",
    "chapters_df.head()"
   ]
  },
  {
   "cell_type": "markdown",
   "id": "12",
   "metadata": {},
   "source": [
    "### Process chapters"
   ]
  },
  {
   "cell_type": "code",
   "execution_count": null,
   "id": "13",
   "metadata": {},
   "outputs": [],
   "source": [
    "from tqdm import tqdm\n",
    "\n",
    "processed_chapters = []\n",
    "max_str_len = 0\n",
    "\n",
    "for index, row in tqdm(chapters_df.iterrows(), total=chapters_df.shape[0]):\n",
    "    # combine relevant fields into a single text block\n",
    "\n",
    "    text_content = (\n",
    "            f\"# Title: {row.get('chapter_title', 'N/A')}\\\\n\"\n",
    "            f\"## Chapter Number: {row.get('chapter_number', 'N/A')}\\\\n\"\n",
    "            f\"## Release Date: {row.get('release_date', 'N/A')}\\\\n\\\\n\"\n",
    "            f\"## Summary\\\\n{row.get('short_summary', '')}\\\\n{row.get('long_summary', '')}\\\\n\\\\n\"\n",
    "            f\"## Chapter Notes\\\\n{row.get('chapter_notes', 'N/A')}\\\\n\\\\n\"\n",
    "            f\"## Characters Appearing\\\\n{format_chapter_characters(row.get('characters', {}))}\\\\n\\\\n\"\n",
    "            f\"## Trivia\\\\n{row.get('trivia', 'N/A')}\").strip()\n",
    "\n",
    "    if len(text_content) > max_str_len:\n",
    "        max_str_len = len(text_content)\n",
    "        print(f\"New max length {max_str_len} at index {index}\")\n",
    "        \n",
    "    metadata = {\n",
    "        \"source_type\": \"chapter\",\n",
    "        \"title\": row.get('chapter_title', 'N/A'),\n",
    "        \"number\": row.get('chapter_number', 'N/A'),\n",
    "        \"url\": row.get('url', 'N/A')\n",
    "    }\n",
    "\n",
    "    processed_chapters.append({\n",
    "        \"text\": text_content,\n",
    "        \"metadata\": metadata\n",
    "    })"
   ]
  },
  {
   "cell_type": "code",
   "execution_count": null,
   "id": "14",
   "metadata": {},
   "outputs": [],
   "source": [
    "processed_chapters[:2]  # show a couple of processed examples"
   ]
  },
  {
   "cell_type": "code",
   "execution_count": null,
   "id": "15",
   "metadata": {},
   "outputs": [],
   "source": [
    "### save into processed\n",
    "processed_data_path = ROOT / \"data\" / \"processed\"\n",
    "os.makedirs(processed_data_path, exist_ok=True)\n",
    "\n",
    "with open(processed_data_path / \"processed_chapters.jsonl\", \"w\", encoding=\"utf-8\") as f:\n",
    "    for item in processed_chapters:\n",
    "        f.write(json.dumps(item) + \"\\n\")"
   ]
  },
  {
   "cell_type": "markdown",
   "id": "16",
   "metadata": {},
   "source": [
    "### Episodes Preprocessing"
   ]
  },
  {
   "cell_type": "code",
   "execution_count": null,
   "id": "17",
   "metadata": {},
   "outputs": [],
   "source": [
    "episodes_df = pd.read_json(raw_data_path / \"one_piece_episodes.json\")\n",
    "episodes_df.head()"
   ]
  },
  {
   "cell_type": "code",
   "execution_count": null,
   "id": "18",
   "metadata": {},
   "outputs": [],
   "source": [
    "processed_episodes = []\n",
    "for index, row in episodes_df.iterrows():\n",
    "    \n",
    "    \n",
    "    character_string = row.get('characters', 'N/A')\n",
    "    if isinstance(character_string, str):\n",
    "        lines = [line.strip() for line in character_string.splitlines() if line.strip()]\n",
    "        formatted_characters = \", \".join(lines)\n",
    "    else:\n",
    "        formatted_characters = 'N/A'\n",
    "        \n",
    "    text_content = (\n",
    "        f\"# Title: {row.get('episode_title', 'N/A')}\\\\n\"\n",
    "        f\"## Episode Number: {row.get('episode_number', 'N/A')}\\\\n\"\n",
    "        f\"## Air Date: {row.get('air_date', 'N/A')}\\\\n\"\n",
    "        f\"## Source Chapters: {row.get('source_chapters', 'N/A')}\\\\n\\\\n\"\n",
    "        f\"## Summary\\\\n{row.get('short_summary', '')}\\\\n{row.get('long_summary', '')}\\\\n\\\\n\"\n",
    "        f\"## Characters Appearing\\\\n{formatted_characters}\\\\n\\\\n\" # Use the newly formatted string\n",
    "        f\"## Anime Notes\\\\n{row.get('anime_notes', 'N/A')}\\\\n\\\\n\"\n",
    "        f\"## Trivia\\\\n{row.get('trivia', 'N/A')}\"\n",
    "    ).strip()\n",
    "    \n",
    "    metadata = {\n",
    "        'source_type': 'episode', \n",
    "        'title': row.get('episode_title', 'N/A'), \n",
    "        'number': row.get('episode_number', 'N/A'),\n",
    "        'url': row.get('url', 'N/A')\n",
    "    }\n",
    "    \n",
    "    processed_episodes.append({'text': text_content, 'metadata': metadata})"
   ]
  },
  {
   "cell_type": "code",
   "execution_count": null,
   "id": "19",
   "metadata": {},
   "outputs": [],
   "source": [
    "## Save into processed\n",
    "with open(processed_data_path / \"processed_episodes.jsonl\", \"w\", encoding=\"utf-8\") as f:\n",
    "    for item in processed_episodes:\n",
    "        f.write(json.dumps(item) + \"\\n\")"
   ]
  },
  {
   "cell_type": "markdown",
   "id": "20",
   "metadata": {},
   "source": [
    "### Characters preprocessing"
   ]
  },
  {
   "cell_type": "code",
   "execution_count": null,
   "id": "21",
   "metadata": {},
   "outputs": [],
   "source": [
    "try:\n",
    "    with open(raw_data_path / \"one_piece_characters_data.jsonl\", \"r\", encoding=\"utf-8\") as f:\n",
    "        characters = [json.loads(line) for line in f]\n",
    "\n",
    "    characters_df = pd.DataFrame(characters)\n",
    "    display(characters_df.head())\n",
    "except Exception as e:\n",
    "    print(f\"Error loading characters data: {e}\")\n",
    "    characters_df = pd.DataFrame()  # create an empty DataFrame in case of error"
   ]
  },
  {
   "cell_type": "code",
   "execution_count": null,
   "id": "22",
   "metadata": {},
   "outputs": [],
   "source": [
    "characters_df[characters_df['devil_fruit'].notna()]['devil_fruit'].iloc[12]"
   ]
  },
  {
   "cell_type": "code",
   "execution_count": null,
   "id": "23",
   "metadata": {},
   "outputs": [],
   "source": [
    "def format_devil_fruit(fruit_data):\n",
    "    \"\"\"\n",
    "    Helper function to format the nested devil fruit dictionary\n",
    "    into a readable string.\n",
    "    \"\"\"\n",
    "    if not isinstance(fruit_data, dict):\n",
    "        return \"N/A\"\n",
    "    \n",
    "    name = fruit_data.get('english_name', 'N/A')\n",
    "    jap_name = fruit_data.get('japanese_name', '')\n",
    "    fruit_type = fruit_data.get('type', 'N/A')\n",
    "    \n",
    "    formatted_string = f\"{name}\"\n",
    "    if jap_name:\n",
    "        formatted_string += f\" ({jap_name})\"\n",
    "    formatted_string += f\", Type: {fruit_type}\"\n",
    "    \n",
    "    return formatted_string"
   ]
  },
  {
   "cell_type": "code",
   "execution_count": null,
   "id": "24",
   "metadata": {},
   "outputs": [],
   "source": [
    "format_devil_fruit(characters_df[characters_df['devil_fruit'].notna()]['devil_fruit'].iloc[20])"
   ]
  },
  {
   "cell_type": "code",
   "execution_count": null,
   "id": "25",
   "metadata": {},
   "outputs": [],
   "source": [
    "processed_characters = []\n",
    "for index, row in characters_df.iterrows():\n",
    "    text_content = (\n",
    "        f\"# Name: {row.get('name', 'N/A')}\\\\n\"\n",
    "        f\"## Affiliations: {row.get('affiliations', 'N/A')}\\\\n\"\n",
    "        f\"## Occupations: {row.get('occupations', 'N/A')}\\\\n\"\n",
    "        f\"## Devil Fruit: {format_devil_fruit(row.get('devil_fruit'))}\\\\n\"\n",
    "        f\"## Residence: {row.get('residence', 'N/A')}\\\\n\"\n",
    "        f\"## Status: {row.get('status', 'N/A')}\\\\n\"\n",
    "        f\"## Bounty: {row.get('bounty', 'N/A')}\\\\n\"\n",
    "        f\"## Manga Debut: {row.get('manga_debut', 'N/A')}\\\\n\"\n",
    "        f\"## Anime Debut: {row.get('anime_debut', 'N/A')}\\\\n\\\\n\"\n",
    "        f\"## General Info\\\\n{row.get('general_info', 'N/A')}\\\\n\\\\n\"\n",
    "        f\"## Appearance\\\\n{row.get('appearance', 'N/A')}\\\\n\\\\n\"\n",
    "        f\"## Personality\\\\n{row.get('personality', 'N/A')}\\\\n\\\\n\"\n",
    "        f\"## History\\\\n{row.get('history', 'N/A')}\\\\n\\\\n\"\n",
    "        f\"## Abilities\\\\n{row.get('abilities', 'N/A')}\\\\n\\\\n\"\n",
    "        f\"## Relationships\\\\n{row.get('relationships', 'N/A')}\\\\n\\\\n\"\n",
    "        f\"## Trivia\\\\n{row.get('trivia', 'N/A')}\"\n",
    "    ).strip()\n",
    "\n",
    "    metadata = {\n",
    "        \"source_type\": \"character\",\n",
    "        \"name\": row.get('name', 'N/A'),\n",
    "        \"url\": row.get('url', 'N/A')\n",
    "    }\n",
    "\n",
    "    processed_characters.append({\n",
    "        \"text\": text_content,\n",
    "        \"metadata\": metadata\n",
    "    })\n",
    "\n",
    "processed_characters[99]"
   ]
  },
  {
   "cell_type": "code",
   "execution_count": null,
   "id": "26",
   "metadata": {},
   "outputs": [],
   "source": [
    "print(processed_characters[975]['text'])"
   ]
  },
  {
   "cell_type": "code",
   "execution_count": null,
   "id": "27",
   "metadata": {},
   "outputs": [],
   "source": [
    "## Save into processed\n",
    "with open(processed_data_path / \"processed_characters.jsonl\", \"w\", encoding=\"utf-8\") as f:\n",
    "    for item in processed_characters:\n",
    "        f.write(json.dumps(item) + \"\\n\")"
   ]
  },
  {
   "cell_type": "code",
   "execution_count": null,
   "id": "28",
   "metadata": {},
   "outputs": [],
   "source": []
  }
 ],
 "metadata": {
  "kernelspec": {
   "display_name": "op_rag_venv",
   "language": "python",
   "name": "python3"
  },
  "language_info": {
   "codemirror_mode": {
    "name": "ipython",
    "version": 3
   },
   "file_extension": ".py",
   "mimetype": "text/x-python",
   "name": "python",
   "nbconvert_exporter": "python",
   "pygments_lexer": "ipython3",
   "version": "3.12.2"
  }
 },
 "nbformat": 4,
 "nbformat_minor": 5
}
