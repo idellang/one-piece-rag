{
 "cells": [
  {
   "cell_type": "code",
   "execution_count": null,
   "id": "0",
   "metadata": {},
   "outputs": [],
   "source": [
    "import pandas as pd\n",
    "import json\n",
    "import os\n",
    "import sys\n",
    "\n",
    "# import parser\n",
    "from src.scraping.parse_chapter import parse_chapter\n",
    "\n",
    "# remove column width restrictions\n",
    "pd.set_option('display.max_colwidth', None)\n",
    "\n",
    "ROOT = os.path.dirname(os.path.abspath(os.getcwd()))\n",
    "data_path = os.path.join(ROOT, 'data')\n",
    "one_piece_chapters_path = os.path.join(data_path, 'one_piece_chapters.json')"
   ]
  },
  {
   "cell_type": "code",
   "execution_count": null,
   "id": "1",
   "metadata": {},
   "outputs": [],
   "source": [
    "df = pd.read_json(one_piece_chapters_path)"
   ]
  },
  {
   "cell_type": "code",
   "execution_count": null,
   "id": "2",
   "metadata": {},
   "outputs": [],
   "source": [
    "df.head(1)"
   ]
  },
  {
   "cell_type": "markdown",
   "id": "3",
   "metadata": {},
   "source": [
    "### Overview of missing"
   ]
  },
  {
   "cell_type": "code",
   "execution_count": null,
   "id": "4",
   "metadata": {},
   "outputs": [],
   "source": [
    "df.info()"
   ]
  },
  {
   "cell_type": "code",
   "execution_count": null,
   "id": "5",
   "metadata": {},
   "outputs": [],
   "source": [
    "# Check if chapter numbers and url are unique\n",
    "print(\"Are chapter numbers unique?\", df['chapter_number'].is_unique)\n",
    "print(\"Are URLs unique?\", df['url'].is_unique)"
   ]
  },
  {
   "cell_type": "code",
   "execution_count": null,
   "id": "6",
   "metadata": {},
   "outputs": [],
   "source": [
    "# there are few entries with no long summary\n",
    "\n",
    "print(\"Number of entries with no long summary:\", df['long_summary'].isnull().sum())\n",
    "missing_long_summaries = df[df['long_summary'].isnull()]\n",
    "print(missing_long_summaries['url'].to_list())"
   ]
  },
  {
   "cell_type": "code",
   "execution_count": null,
   "id": "7",
   "metadata": {},
   "outputs": [],
   "source": [
    "# try the new parser if it gets the long summary\n",
    "import time\n",
    "\n",
    "for sample_missing_url in missing_long_summaries['url'].to_list():\n",
    "    print(f\"Parsing {sample_missing_url}...\")\n",
    "    parsed = parse_chapter(sample_missing_url)\n",
    "    \n",
    "    # print url and long summary\n",
    "    print(\"URL:\", parsed['url'])\n",
    "    print(\"Long Summary:\", parsed['long_summary'])\n",
    "    # stop for 0.5 seconds\n",
    "    time.sleep(0.5)"
   ]
  },
  {
   "cell_type": "code",
   "execution_count": null,
   "id": "8",
   "metadata": {},
   "outputs": [],
   "source": [
    "# to check robustness, test it on a few random urls with long summaries\n",
    "sample_urls = [\n",
    "    \"https://onepiece.fandom.com/wiki/Chapter_1000\",\n",
    "    \"https://onepiece.fandom.com/wiki/Chapter_500\",\n",
    "    \"https://onepiece.fandom.com/wiki/Chapter_750\",\n",
    "    \"https://onepiece.fandom.com/wiki/Chapter_250\",\n",
    "    \"https://onepiece.fandom.com/wiki/Chapter_1\",\n",
    "    \"https://onepiece.fandom.com/wiki/Chapter_1050\"\n",
    "]\n",
    "\n",
    "for sample_url in sample_urls:\n",
    "    print(f\"Parsing {sample_url}...\")\n",
    "    parsed = parse_chapter(sample_url)\n",
    "\n",
    "    # print url and long summary\n",
    "    print(\"URL:\", parsed['url'])\n",
    "    print(\"Long Summary:\", parsed['long_summary'])"
   ]
  },
  {
   "cell_type": "markdown",
   "id": "9",
   "metadata": {},
   "source": [
    "### Fix long summary "
   ]
  },
  {
   "cell_type": "code",
   "execution_count": null,
   "id": "10",
   "metadata": {},
   "outputs": [],
   "source": [
    "all_chapters_data = json.load(open(one_piece_chapters_path, 'r'))\n",
    "all_chapters_data[0]"
   ]
  },
  {
   "cell_type": "code",
   "execution_count": null,
   "id": "11",
   "metadata": {},
   "outputs": [],
   "source": [
    "chapters_to_fix = []\n",
    "\n",
    "for index, chapter in enumerate(all_chapters_data):\n",
    "    if chapter.get('long_summary') is None:\n",
    "        chapters_to_fix.append({\n",
    "            'index': index,\n",
    "            'url': chapter.get('url')\n",
    "        })\n",
    "\n",
    "chapters_to_fix"
   ]
  },
  {
   "cell_type": "code",
   "execution_count": null,
   "id": "12",
   "metadata": {},
   "outputs": [],
   "source": [
    "# loop through function and fix the long summaries\n",
    "from tqdm import tqdm\n",
    "scraper_headers = {\n",
    "        'User-Agent': 'OnePieceRAGBot/1.0 (Updating Script; contact: jfcastaneda.led@gmail.com)'\n",
    "    }\n",
    "\n",
    "successful_fixes = 0\n",
    "for item in tqdm(chapters_to_fix, desc=\"Fixing long summaries\"):\n",
    "    index = item['index']\n",
    "    url = item['url']\n",
    "    \n",
    "    print(f\"Re-parsing {url}...\")\n",
    "    reparsed = parse_chapter(url, headers=scraper_headers)\n",
    "    \n",
    "    if reparsed and reparsed.get('long_summary'):\n",
    "        all_chapters_data[index]['long_summary'] = reparsed['long_summary']\n",
    "        print(f\"Updated long summary for index {index}.\")\n",
    "        successful_fixes += 1\n",
    "\n",
    "    time.sleep(0.5)  # Be polite and avoid overwhelming the server\n",
    "\n",
    "    "
   ]
  },
  {
   "cell_type": "code",
   "execution_count": null,
   "id": "13",
   "metadata": {},
   "outputs": [],
   "source": [
    "# check index of all_chapters_data where index is in chapters_to_fix\n",
    "fixed_indices = [item['index'] for item in chapters_to_fix if all_chapters_data[item['index']].get('long_summary') is not None]\n",
    "fixed_indices\n"
   ]
  },
  {
   "cell_type": "code",
   "execution_count": null,
   "id": "14",
   "metadata": {},
   "outputs": [],
   "source": [
    "# save and update the json file\n",
    "\n",
    "with open(one_piece_chapters_path, 'w') as f:\n",
    "    json.dump(all_chapters_data, f, indent=4, ensure_ascii=False)"
   ]
  },
  {
   "cell_type": "code",
   "execution_count": null,
   "id": "15",
   "metadata": {},
   "outputs": [],
   "source": []
  }
 ],
 "metadata": {
  "kernelspec": {
   "display_name": "op_rag_venv",
   "language": "python",
   "name": "python3"
  },
  "language_info": {
   "codemirror_mode": {
    "name": "ipython",
    "version": 3
   },
   "file_extension": ".py",
   "mimetype": "text/x-python",
   "name": "python",
   "nbconvert_exporter": "python",
   "pygments_lexer": "ipython3",
   "version": "3.12.2"
  }
 },
 "nbformat": 4,
 "nbformat_minor": 5
}
