{
 "cells": [
  {
   "cell_type": "code",
   "execution_count": null,
   "id": "0",
   "metadata": {},
   "outputs": [],
   "source": [
    "import pandas as pd\n",
    "import json\n",
    "import os\n",
    "import sys\n",
    "\n",
    "\n",
    "# remove column width restrictions\n",
    "pd.set_option('display.max_colwidth', None)\n",
    "\n",
    "ROOT = os.path.dirname(os.path.abspath(os.getcwd()))\n",
    "data_path = os.path.join(ROOT, 'data')\n",
    "one_piece_characters_path = os.path.join(data_path, 'one_piece_characters_data.jsonl')"
   ]
  },
  {
   "cell_type": "code",
   "execution_count": null,
   "id": "1",
   "metadata": {},
   "outputs": [],
   "source": [
    "df = pd.read_json(one_piece_characters_path, lines=True)"
   ]
  },
  {
   "cell_type": "code",
   "execution_count": null,
   "id": "2",
   "metadata": {},
   "outputs": [],
   "source": [
    "df.isna().sum()"
   ]
  },
  {
   "cell_type": "code",
   "execution_count": null,
   "id": "3",
   "metadata": {},
   "outputs": [],
   "source": [
    "df.info()"
   ]
  },
  {
   "cell_type": "code",
   "execution_count": null,
   "id": "4",
   "metadata": {},
   "outputs": [],
   "source": [
    "## See random sample of no affiliations\n",
    "\n",
    "no_affiliations_sample = df[df['affiliations'].isna()][['name','url']].sample(5)\n",
    "\n",
    "for index, row in no_affiliations_sample.iterrows():\n",
    "    print(f\"Name: {row['name']}, URL: {row['url']}\")"
   ]
  },
  {
   "cell_type": "code",
   "execution_count": null,
   "id": "5",
   "metadata": {},
   "outputs": [],
   "source": [
    "df[~df['devil_fruit'].isna()][['name','url','devil_fruit']]"
   ]
  },
  {
   "cell_type": "markdown",
   "id": "6",
   "metadata": {},
   "source": [
    "#### Bounty"
   ]
  },
  {
   "cell_type": "code",
   "execution_count": null,
   "id": "7",
   "metadata": {},
   "outputs": [],
   "source": [
    "# check with bounty\n",
    "df[~df['bounty'].isna()][['name','url','bounty']]"
   ]
  },
  {
   "cell_type": "code",
   "execution_count": null,
   "id": "8",
   "metadata": {},
   "outputs": [],
   "source": [
    "# get bounties that are less than 5 digits\n",
    "# these are mostly incorrectly parsed bounties\n",
    "len(df['bounty'].dropna()[df['bounty'].dropna().astype(str).str.len() < 5])"
   ]
  },
  {
   "cell_type": "code",
   "execution_count": null,
   "id": "9",
   "metadata": {},
   "outputs": [],
   "source": [
    "# read the file again and then set the bounty to none if it is less than 5 digits\n",
    "df = pd.read_json(one_piece_characters_path, lines=True)\n",
    "df.loc[df['bounty'].dropna()[df['bounty'].dropna().astype(str).str.len() < 5].index, 'bounty'] = None\n",
    "\n",
    "# save back to jsonl\n",
    "# df.to_json(one_piece_characters_path, orient='records', lines=True)"
   ]
  },
  {
   "cell_type": "markdown",
   "id": "10",
   "metadata": {},
   "source": [
    "### Check anime debut is null"
   ]
  },
  {
   "cell_type": "code",
   "execution_count": null,
   "id": "11",
   "metadata": {},
   "outputs": [],
   "source": [
    "# anime debut is null\n",
    "print(f\"Number of characters with null anime debut: {len(df[df['anime_debut'].isna()])}\")\n",
    "df[df['anime_debut'].isna()][['name','url']].head(10)"
   ]
  },
  {
   "cell_type": "markdown",
   "id": "12",
   "metadata": {},
   "source": [
    "- The above links have \"first appearance\" as keyword instead of debut. \n",
    "- Formatting issues"
   ]
  },
  {
   "cell_type": "code",
   "execution_count": null,
   "id": "13",
   "metadata": {},
   "outputs": [],
   "source": [
    "df.info()"
   ]
  },
  {
   "cell_type": "markdown",
   "id": "14",
   "metadata": {},
   "source": [
    "### Check missing general info"
   ]
  },
  {
   "cell_type": "code",
   "execution_count": null,
   "id": "15",
   "metadata": {},
   "outputs": [],
   "source": [
    "### Check missing general info\n",
    "\n",
    "df[df['general_info'].isna()][['name','url']]"
   ]
  },
  {
   "cell_type": "markdown",
   "id": "16",
   "metadata": {},
   "source": [
    "- Most likely bug because it points to Ussop"
   ]
  },
  {
   "cell_type": "markdown",
   "id": "17",
   "metadata": {},
   "source": [
    "#### Check no appearance"
   ]
  },
  {
   "cell_type": "code",
   "execution_count": null,
   "id": "18",
   "metadata": {},
   "outputs": [],
   "source": [
    "# no appearance\n",
    "df[df['appearance'].isna()][['name','url']]"
   ]
  },
  {
   "cell_type": "markdown",
   "id": "19",
   "metadata": {},
   "source": [
    "- Most of links above or not characters but rather groups. \n",
    "- Could be because link is available but not characters really"
   ]
  },
  {
   "cell_type": "code",
   "execution_count": null,
   "id": "20",
   "metadata": {},
   "outputs": [],
   "source": []
  }
 ],
 "metadata": {
  "kernelspec": {
   "display_name": "op_rag_venv",
   "language": "python",
   "name": "python3"
  },
  "language_info": {
   "codemirror_mode": {
    "name": "ipython",
    "version": 3
   },
   "file_extension": ".py",
   "mimetype": "text/x-python",
   "name": "python",
   "nbconvert_exporter": "python",
   "pygments_lexer": "ipython3",
   "version": "3.12.2"
  }
 },
 "nbformat": 4,
 "nbformat_minor": 5
}
